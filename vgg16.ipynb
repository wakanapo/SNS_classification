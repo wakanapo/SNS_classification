{
 "cells": [
  {
   "cell_type": "code",
   "execution_count": 1,
   "metadata": {
    "collapsed": true
   },
   "outputs": [],
   "source": [
    "import warnings\n",
    "warnings.filterwarnings('ignore')"
   ]
  },
  {
   "cell_type": "code",
   "execution_count": 2,
   "metadata": {},
   "outputs": [
    {
     "name": "stderr",
     "output_type": "stream",
     "text": [
      "Using TensorFlow backend.\n"
     ]
    }
   ],
   "source": [
    "from keras.applications.vgg16 import VGG16, preprocess_input, decode_predictions\n",
    "from keras.layers import Input, Dense, Dropout, Flatten\n",
    "from keras.models import Model, Sequential\n",
    "from keras.preprocessing import image\n",
    "from keras.callbacks import EarlyStopping\n",
    "from keras import optimizers\n",
    "import numpy as np\n",
    "import sys\n",
    "from PIL import Image\n",
    "import pickle\n",
    "from io import BytesIO\n",
    "from sklearn.utils import shuffle\n",
    "from sklearn.model_selection import train_test_split\n",
    "import bz2"
   ]
  },
  {
   "cell_type": "code",
   "execution_count": 3,
   "metadata": {
    "collapsed": true
   },
   "outputs": [],
   "source": [
    "def load(fname):\n",
    "    fin = bz2.BZ2File(fname, 'rb')\n",
    "    try:\n",
    "        pkl = fin.read()\n",
    "    finally:\n",
    "        fin.close()\n",
    "    return pickle.loads(pkl)"
   ]
  },
  {
   "cell_type": "code",
   "execution_count": 4,
   "metadata": {
    "collapsed": true
   },
   "outputs": [],
   "source": [
    "with open('insta_images_small.pkl', 'rb') as f:\n",
    "    insta_images = load(f)\n",
    "with open('twitter_images_small.pkl', 'rb') as f:\n",
    "    twitter_images = load(f)\n",
    "with open('fb_images_small.pkl', 'rb') as f:\n",
    "    fb_images = load(f)"
   ]
  },
  {
   "cell_type": "code",
   "execution_count": 5,
   "metadata": {
    "collapsed": true
   },
   "outputs": [],
   "source": [
    "images = np.array(insta_images + twitter_images + fb_images)"
   ]
  },
  {
   "cell_type": "code",
   "execution_count": 6,
   "metadata": {
    "collapsed": true
   },
   "outputs": [],
   "source": [
    "labels = np.zeros(len(insta_images), dtype=np.int32)\n",
    "labels = np.append(labels, np.ones(len(twitter_images), dtype=np.int32))\n",
    "labels = np.append(labels, np.ones(len(fb_images), dtype=np.int32)+1)\n",
    "labels = np.eye(3)[labels]"
   ]
  },
  {
   "cell_type": "code",
   "execution_count": 7,
   "metadata": {
    "collapsed": true
   },
   "outputs": [],
   "source": [
    "images, labels = shuffle(images, labels, random_state=42)\n",
    "train_X, valid_X, train_y, valid_y = train_test_split(images, labels, test_size=0.1, random_state=42)"
   ]
  },
  {
   "cell_type": "code",
   "execution_count": 8,
   "metadata": {},
   "outputs": [],
   "source": [
    "input_tensor = Input(shape=(100, 100, 3))\n",
    "vgg16 = VGG16(include_top=False, weights='imagenet', input_tensor=input_tensor)\n",
    "\n",
    "# FC層を構築\n",
    "top_model = Sequential()\n",
    "top_model.add(Flatten(input_shape=vgg16.output_shape[1:]))\n",
    "top_model.add(Dense(256, activation='relu'))\n",
    "top_model.add(Dropout(0.2))\n",
    "top_model.add(Dense(3, activation='softmax'))\n",
    "\n",
    "# VGG16とFCを接続\n",
    "model = Model(input=vgg16.input, output=top_model(vgg16.output))\n",
    "\n",
    "# 最後のconv層の直前までの層をfreeze\n",
    "for layer in model.layers[:15]:\n",
    "    layer.trainable = False\n",
    "\n",
    "# Fine-tuningのときはSGDの方がよい\n",
    "model.compile(loss='categorical_crossentropy',\n",
    "              optimizer=optimizers.SGD(lr=1e-4, momentum=0.9),\n",
    "              metrics=['accuracy'])"
   ]
  },
  {
   "cell_type": "code",
   "execution_count": 9,
   "metadata": {},
   "outputs": [
    {
     "name": "stdout",
     "output_type": "stream",
     "text": [
      "Train on 8068 samples, validate on 897 samples\n",
      "Epoch 1/10\n",
      "8068/8068 [==============================] - 375s 47ms/step - loss: 1.5867 - acc: 0.5059 - val_loss: 0.9302 - val_acc: 0.5853\n",
      "Epoch 2/10\n",
      "8068/8068 [==============================] - 349s 43ms/step - loss: 0.8762 - acc: 0.5957 - val_loss: 0.9012 - val_acc: 0.5808\n",
      "Epoch 3/10\n",
      "8068/8068 [==============================] - 347s 43ms/step - loss: 0.7914 - acc: 0.6475 - val_loss: 0.8245 - val_acc: 0.6332\n",
      "Epoch 4/10\n",
      "8068/8068 [==============================] - 349s 43ms/step - loss: 0.7182 - acc: 0.6857 - val_loss: 0.8541 - val_acc: 0.6355\n",
      "Epoch 5/10\n",
      "8068/8068 [==============================] - 349s 43ms/step - loss: 0.6547 - acc: 0.7162 - val_loss: 0.7721 - val_acc: 0.6611\n",
      "Epoch 6/10\n",
      "8068/8068 [==============================] - 354s 44ms/step - loss: 0.5895 - acc: 0.7496 - val_loss: 0.8273 - val_acc: 0.6711\n",
      "Epoch 7/10\n",
      "8068/8068 [==============================] - 359s 45ms/step - loss: 0.5399 - acc: 0.7722 - val_loss: 0.7767 - val_acc: 0.6555\n",
      "Epoch 8/10\n",
      "8068/8068 [==============================] - 356s 44ms/step - loss: 0.4752 - acc: 0.7964 - val_loss: 0.8443 - val_acc: 0.6767\n",
      "Epoch 9/10\n",
      "8068/8068 [==============================] - 355s 44ms/step - loss: 0.4079 - acc: 0.8309 - val_loss: 0.8324 - val_acc: 0.6745\n",
      "Epoch 10/10\n",
      "8068/8068 [==============================] - 356s 44ms/step - loss: 0.3563 - acc: 0.8536 - val_loss: 0.9333 - val_acc: 0.6633\n"
     ]
    }
   ],
   "source": [
    "# 学習の実施\n",
    "history = model.fit(train_X, train_y, epochs=10, batch_size=32, validation_data=(valid_X, valid_y), shuffle=True)\n",
    "\n",
    "# 重みの保存\n",
    "model.save_weights('./out/vgg16_transferlearning_weights2.h5')"
   ]
  },
  {
   "cell_type": "code",
   "execution_count": 17,
   "metadata": {},
   "outputs": [
    {
     "data": {
      "image/png": "[encoded data removed]",
      "text/plain": [
       "<matplotlib.figure.Figure at 0x2af7f43d8da0>"
      ]
     },
     "metadata": {},
     "output_type": "display_data"
    }
   ],
   "source": [
    "import matplotlib.pyplot as plt\n",
    "\n",
    "def plot_history(history):\n",
    "    # print(history.history.keys())\n",
    "    fig, ax1 = plt.subplots()\n",
    "    ax1.plot(history.history['val_acc'], color='lightskyblue')\n",
    "    ax2 = ax1.twinx()\n",
    "    ax2.plot(history.history['val_loss'], color='orange')\n",
    "    plt.title('model accuracy')\n",
    "    ax1.legend(['acc', 'loss'], loc='lower right')\n",
    "    ax1.set_xlabel('epoch')\n",
    "    ax1.set_ylabel('accuracy')\n",
    "    ax2.set_ylabel('loss')\n",
    "\n",
    "    plt.savefig('accuracy_loss2.png')\n",
    "    plt.show()\n",
    "\n",
    "# 学習履歴をプロット\n",
    "plot_history(history)"
   ]
  },
  {
   "cell_type": "code",
   "execution_count": null,
   "metadata": {
    "collapsed": true
   },
   "outputs": [],
   "source": [
    "with open('non_dropout2.pkl', 'wb') as f:\n",
    "    pickle.dump(history.history, f)"
   ]
  },
  {
   "cell_type": "code",
   "execution_count": 18,
   "metadata": {},
   "outputs": [
    {
     "data": {
      "image/png": "[encoded data removed]",
      "text/plain": [
       "<matplotlib.figure.Figure at 0x2af7f4533710>"
      ]
     },
     "metadata": {},
     "output_type": "display_data"
    }
   ],
   "source": [
    "fig, axis1 = plt.subplots()\n",
    "\n",
    "axis1.set_ylabel('accuracy')\n",
    "\n",
    "axis1.plot(history.history['val_acc'], marker='+', label='accuracy', color='lightskyblue')\n",
    "\n",
    "plt.savefig('accuracy2.png')\n",
    "\n",
    "plt.show()"
   ]
  },
  {
   "cell_type": "code",
   "execution_count": 19,
   "metadata": {
    "collapsed": true
   },
   "outputs": [],
   "source": [
    "results = model.predict(images)"
   ]
  },
  {
   "cell_type": "code",
   "execution_count": 20,
   "metadata": {
    "collapsed": true
   },
   "outputs": [],
   "source": [
    "def predict(i):\n",
    "    result = results[i:i+1]\n",
    "    if labels[i][0] == 1:\n",
    "        print('Instagram')\n",
    "    elif labels[i][1] == 1:\n",
    "        print('Twitter')\n",
    "    elif labels[i][2] == 1:\n",
    "        print('Facebook')\n",
    "    print('Instagram: {}'.format(result[0][0]))\n",
    "    print('Twitter  : {}'.format(result[0][1]))\n",
    "    print('Facebook : {}'.format(result[0][2]))"
   ]
  },
  {
   "cell_type": "code",
   "execution_count": 21,
   "metadata": {
    "scrolled": false
   },
   "outputs": [
    {
     "name": "stdout",
     "output_type": "stream",
     "text": [
      "===0===\n",
      "Facebook\n",
      "Instagram: 0.000837924366351217\n",
      "Twitter  : 0.07415575534105301\n",
      "Facebook : 0.9250063896179199\n",
      "========\n",
      "===1===\n",
      "Facebook\n",
      "Instagram: 0.00469555240124464\n",
      "Twitter  : 0.03660023957490921\n",
      "Facebook : 0.9587041735649109\n",
      "========\n",
      "===2===\n",
      "Instagram\n",
      "Instagram: 0.9994563460350037\n",
      "Twitter  : 0.0005409523728303611\n",
      "Facebook : 2.683935690583894e-06\n",
      "========\n",
      "===3===\n",
      "Twitter\n",
      "Instagram: 0.3264907896518707\n",
      "Twitter  : 0.6396783590316772\n",
      "Facebook : 0.033830851316452026\n",
      "========\n",
      "===4===\n",
      "Instagram\n",
      "Instagram: 0.9868943691253662\n",
      "Twitter  : 0.010505656711757183\n",
      "Facebook : 0.00260001327842474\n",
      "========\n",
      "===5===\n",
      "Instagram\n",
      "Instagram: 0.9948031306266785\n",
      "Twitter  : 0.00404894957318902\n",
      "Facebook : 0.0011479957029223442\n",
      "========\n",
      "===6===\n",
      "Facebook\n",
      "Instagram: 6.46095722913742e-05\n",
      "Twitter  : 0.00018894122331403196\n",
      "Facebook : 0.9997465014457703\n",
      "========\n",
      "===7===\n",
      "Facebook\n",
      "Instagram: 1.0445256037883155e-07\n",
      "Twitter  : 0.00028534213197417557\n",
      "Facebook : 0.9997145533561707\n",
      "========\n",
      "===8===\n",
      "Facebook\n",
      "Instagram: 6.607100658584386e-06\n",
      "Twitter  : 0.0011594711104407907\n",
      "Facebook : 0.998833954334259\n",
      "========\n",
      "===9===\n",
      "Instagram\n",
      "Instagram: 0.998984158039093\n",
      "Twitter  : 0.001008337363600731\n",
      "Facebook : 7.510207069572061e-06\n",
      "========\n"
     ]
    }
   ],
   "source": [
    "for i in range(10):\n",
    "    print('==={}==='.format(i))\n",
    "    predict(i)\n",
    "    print('========')"
   ]
  },
  {
   "cell_type": "code",
   "execution_count": null,
   "metadata": {
    "collapsed": true
   },
   "outputs": [],
   "source": []
  }
 ],
 "metadata": {
  "kernelspec": {
   "display_name": "Python 3",
   "language": "python",
   "name": "python3"
  },
  "language_info": {
   "codemirror_mode": {
    "name": "ipython",
    "version": 3
   },
   "file_extension": ".py",
   "mimetype": "text/x-python",
   "name": "python",
   "nbconvert_exporter": "python",
   "pygments_lexer": "ipython3",
   "version": "3.6.3"
  }
 },
 "nbformat": 4,
 "nbformat_minor": 2
}
